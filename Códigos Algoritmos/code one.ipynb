{
 "cells": [
  {
   "cell_type": "markdown",
   "metadata": {},
   "source": [
    "#### Lista 1"
   ]
  },
  {
   "cell_type": "markdown",
   "metadata": {},
   "source": [
    "##### Questão 1. Peça um número e valide se este número é divisível por 5."
   ]
  },
  {
   "cell_type": "code",
   "execution_count": 8,
   "metadata": {},
   "outputs": [
    {
     "name": "stdout",
     "output_type": "stream",
     "text": [
      "É divisível por 5.\n",
      "É divisível por 5.\n",
      "Não é divisível por 5.\n",
      "Não é divisível por 5.\n",
      "Número não informado ou palavra.\n"
     ]
    }
   ],
   "source": [
    "#print(f'Divisível por 5' if int(input('Informe o número:')) % 5 == 0 else 'Não divisível')\n",
    "\n",
    "n = 5\n",
    "while True:\n",
    "  try: print(\"%s divisível por %d.\" %(\"É\" if int(input(\"Informe o número: \")) % n == 0 else \"Não é\", n))\n",
    "  except ValueError: print('Número não informado ou palavra.'); break"
   ]
  },
  {
   "cell_type": "markdown",
   "metadata": {},
   "source": [
    "##### Questão 2. Receba uma lista de itens, e calcule o tamanho desta lista."
   ]
  },
  {
   "cell_type": "code",
   "execution_count": 28,
   "metadata": {},
   "outputs": [
    {
     "name": "stdout",
     "output_type": "stream",
     "text": [
      "Tamanho da lista: 10\n"
     ]
    }
   ],
   "source": [
    "def tamanhoLista(lista):\n",
    "    tamanho = 0\n",
    "    for i in lista:\n",
    "        tamanho += 1\n",
    "    \n",
    "    return tamanho\n",
    "\n",
    "lista = ['a', 'b', 'c', 'd', 'e', 'f', 'g', 'h', 'i', 'j']\n",
    "print(f'Tamanho da lista: {tamanhoLista(lista)}')"
   ]
  },
  {
   "cell_type": "code",
   "execution_count": null,
   "metadata": {},
   "outputs": [],
   "source": []
  }
 ],
 "metadata": {
  "interpreter": {
   "hash": "b3ba2566441a7c06988d0923437866b63cedc61552a5af99d1f4fb67d367b25f"
  },
  "kernelspec": {
   "display_name": "Python 3.9.7 ('base')",
   "language": "python",
   "name": "python3"
  },
  "language_info": {
   "codemirror_mode": {
    "name": "ipython",
    "version": 3
   },
   "file_extension": ".py",
   "mimetype": "text/x-python",
   "name": "python",
   "nbconvert_exporter": "python",
   "pygments_lexer": "ipython3",
   "version": "3.9.7"
  },
  "orig_nbformat": 4
 },
 "nbformat": 4,
 "nbformat_minor": 2
}
